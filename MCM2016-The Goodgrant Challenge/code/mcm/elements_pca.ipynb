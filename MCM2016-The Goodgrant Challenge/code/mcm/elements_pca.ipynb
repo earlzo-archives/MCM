{
 "cells": [
  {
   "cell_type": "code",
   "execution_count": 8,
   "metadata": {
    "collapsed": true
   },
   "outputs": [],
   "source": [
    "# 初始化Python科学计算环境\n",
    "import pandas as pd\n",
    "import seaborn as sns\n",
    "from pylab import *"
   ]
  },
  {
   "cell_type": "code",
   "execution_count": 10,
   "metadata": {
    "collapsed": false
   },
   "outputs": [
    {
     "data": {
      "text/plain": [
       "'D:\\\\Projects\\\\PyCharm\\\\math_modeling_learning'"
      ]
     },
     "execution_count": 10,
     "metadata": {},
     "output_type": "execute_result"
    }
   ],
   "source": [
    "# 其他的一些库及初始环境\n",
    "import os\n",
    "import scipy.io as sio\n",
    "from sklearn.decomposition import PCA\n",
    "from sklearn.cross_validation import cross_val_score\n",
    "from mcm import data_dir, report_dir\n",
    "os.path.realpath(os.curdir)"
   ]
  },
  {
   "cell_type": "code",
   "execution_count": 9,
   "metadata": {
    "collapsed": true
   },
   "outputs": [],
   "source": [
    "# 初始化Matlab环境\n",
    "# import matlab.engine\n",
    "# eng = matlab.engine.start_matlab()\n",
    "# eng.userpath(os.path.realpath(os.path.curdir), nargout=0)\n",
    "# eng.doc(nargout=0)\n",
    "# eng.userpath()"
   ]
  },
  {
   "cell_type": "code",
   "execution_count": 11,
   "metadata": {
    "collapsed": false
   },
   "outputs": [
    {
     "data": {
      "text/plain": [
       "(2928, 98)"
      ]
     },
     "execution_count": 11,
     "metadata": {},
     "output_type": "execute_result"
    }
   ],
   "source": [
    "# 数值数据\n",
    "number_elements = pd.read_csv(\n",
    "    os.path.join(report_dir, r'NumberElements.csv'),\n",
    "    skipinitialspace=True,\n",
    "    index_col=0,\n",
    "    na_values=['NULL', 'PrivacySuppressed'],\n",
    "    # usecols=[\n",
    "    #     0,  # UNITID\n",
    "    #     3,  # INSTNM\n",
    "    #     4,  # CITY\n",
    "    #     5,  # STABBR\n",
    "    #\n",
    "    # ]\n",
    "    dtype={\n",
    "        'UNITID':np.int\n",
    "    }\n",
    ")\n",
    "\n",
    "\n",
    "number_elements.shape"
   ]
  },
  {
   "cell_type": "code",
   "execution_count": 12,
   "metadata": {
    "collapsed": true
   },
   "outputs": [],
   "source": [
    "# 填充空白值\n",
    "X = number_elements.fillna(number_elements.mean())\n",
    "# PCA\n",
    "pca = PCA()"
   ]
  },
  {
   "cell_type": "code",
   "execution_count": 13,
   "metadata": {
    "collapsed": true
   },
   "outputs": [],
   "source": [
    "n_components = np.arange(0, len(X.keys()))\n",
    "def compute_scores(X):\n",
    "    pca = PCA()\n",
    "    pca_scores = []\n",
    "    for n in n_components:\n",
    "        pca.n_components = n\n",
    "        pca_scores.append(np.mean(cross_val_score(pca, X)))\n",
    "\n",
    "    return pca_scores\n",
    "pca_scores = compute_scores(X)"
   ]
  },
  {
   "cell_type": "code",
   "execution_count": 17,
   "metadata": {
    "collapsed": true
   },
   "outputs": [],
   "source": [
    "plt.plot(n_components, pca_scores, label='PCA scores')\n",
    "\n",
    "n_components_pca = n_components[np.argmax(pca_scores)]\n",
    "\n",
    "plt.axvline(n_components_pca, color='b', label='PCA CV: %d' % n_components_pca, linestyle='--')\n",
    "plt.xlabel('nb of components')\n",
    "plt.ylabel('CV scores')\n",
    "plt.legend(loc='lower right')\n",
    "plt.title('Noise')\n",
    "plt.show()"
   ]
  },
  {
   "cell_type": "code",
   "execution_count": 8,
   "metadata": {
    "collapsed": true
   },
   "outputs": [],
   "source": [
    "# # 数据标准化\n",
    "# normal_X = eng.zscore(matlab.double(X.T.values.tolist()))\n",
    "# # 计算相关系数矩阵\n",
    "# r = eng.corrcoef(normal_X)\n",
    "# # 利用相关系数矩阵进行主成分分析, vec1 的列为 r 的特征向量, 即主成分系数\n",
    "# # \n",
    "# vec1, lambda_ , rate = eng.pcacov(r, nargout=3)\n",
    "# # \n",
    "# f = eng.repmat(eng.sign(eng.sum(vec1)), eng.size(vec1, 1), 1)\n",
    "# # \n",
    "# vec2 = vec1 * f\n",
    "# # \n",
    "# num = 4\n",
    "# df = normal_X * vec2[:, 1:num]\n",
    "# tf = df * eng.rate(np.arange(1, num))/100\n",
    "# stf, ind = eng.sort(tf, 'descend', nargout=2)\n",
    "sio.savemat('number_elements.mat', dict(X=X.T.values))"
   ]
  },
  {
   "cell_type": "code",
   "execution_count": 22,
   "metadata": {
    "collapsed": false
   },
   "outputs": [
    {
     "data": {
      "text/html": [
       "<div>\n",
       "<table border=\"1\" class=\"dataframe\">\n",
       "  <thead>\n",
       "    <tr style=\"text-align: right;\">\n",
       "      <th>UNITID</th>\n",
       "      <th>110486</th>\n",
       "      <th>110635</th>\n",
       "      <th>110918</th>\n",
       "      <th>111188</th>\n",
       "      <th>111920</th>\n",
       "      <th>111939</th>\n",
       "      <th>128498</th>\n",
       "      <th>128902</th>\n",
       "      <th>130004</th>\n",
       "      <th>144193</th>\n",
       "      <th>...</th>\n",
       "      <th>223816</th>\n",
       "      <th>223898</th>\n",
       "      <th>224527</th>\n",
       "      <th>239017</th>\n",
       "      <th>239442</th>\n",
       "      <th>239460</th>\n",
       "      <th>239910</th>\n",
       "      <th>433174</th>\n",
       "      <th>442523</th>\n",
       "      <th>475565</th>\n",
       "    </tr>\n",
       "  </thead>\n",
       "  <tbody>\n",
       "    <tr>\n",
       "      <th>ACTCM25</th>\n",
       "      <td>15</td>\n",
       "      <td>27</td>\n",
       "      <td>20.395455</td>\n",
       "      <td>21</td>\n",
       "      <td>20.395455</td>\n",
       "      <td>20.395455</td>\n",
       "      <td>20.395455</td>\n",
       "      <td>20.395455</td>\n",
       "      <td>20.395455</td>\n",
       "      <td>20.395455</td>\n",
       "      <td>...</td>\n",
       "      <td>20.395455</td>\n",
       "      <td>20.395455</td>\n",
       "      <td>18</td>\n",
       "      <td>20.395455</td>\n",
       "      <td>20.395455</td>\n",
       "      <td>20.395455</td>\n",
       "      <td>20.395455</td>\n",
       "      <td>20.395455</td>\n",
       "      <td>20.395455</td>\n",
       "      <td>20.395455</td>\n",
       "    </tr>\n",
       "    <tr>\n",
       "      <th>ACTCM75</th>\n",
       "      <td>22</td>\n",
       "      <td>33</td>\n",
       "      <td>25.418182</td>\n",
       "      <td>26</td>\n",
       "      <td>25.418182</td>\n",
       "      <td>25.418182</td>\n",
       "      <td>25.418182</td>\n",
       "      <td>25.418182</td>\n",
       "      <td>25.418182</td>\n",
       "      <td>25.418182</td>\n",
       "      <td>...</td>\n",
       "      <td>25.418182</td>\n",
       "      <td>25.418182</td>\n",
       "      <td>22</td>\n",
       "      <td>25.418182</td>\n",
       "      <td>25.418182</td>\n",
       "      <td>25.418182</td>\n",
       "      <td>25.418182</td>\n",
       "      <td>25.418182</td>\n",
       "      <td>25.418182</td>\n",
       "      <td>25.418182</td>\n",
       "    </tr>\n",
       "    <tr>\n",
       "      <th>ACTCMMID</th>\n",
       "      <td>19</td>\n",
       "      <td>30</td>\n",
       "      <td>23.149242</td>\n",
       "      <td>24</td>\n",
       "      <td>23.149242</td>\n",
       "      <td>23.149242</td>\n",
       "      <td>23.149242</td>\n",
       "      <td>23.149242</td>\n",
       "      <td>23.149242</td>\n",
       "      <td>23.149242</td>\n",
       "      <td>...</td>\n",
       "      <td>23.149242</td>\n",
       "      <td>23.149242</td>\n",
       "      <td>20</td>\n",
       "      <td>23.149242</td>\n",
       "      <td>23.149242</td>\n",
       "      <td>23.149242</td>\n",
       "      <td>23.149242</td>\n",
       "      <td>23.149242</td>\n",
       "      <td>23.149242</td>\n",
       "      <td>23.149242</td>\n",
       "    </tr>\n",
       "    <tr>\n",
       "      <th>ACTEN25</th>\n",
       "      <td>14</td>\n",
       "      <td>26</td>\n",
       "      <td>19.411150</td>\n",
       "      <td>19</td>\n",
       "      <td>19.411150</td>\n",
       "      <td>19.411150</td>\n",
       "      <td>19.411150</td>\n",
       "      <td>19.411150</td>\n",
       "      <td>19.411150</td>\n",
       "      <td>19.411150</td>\n",
       "      <td>...</td>\n",
       "      <td>19.411150</td>\n",
       "      <td>19.411150</td>\n",
       "      <td>16</td>\n",
       "      <td>19.411150</td>\n",
       "      <td>19.411150</td>\n",
       "      <td>19.411150</td>\n",
       "      <td>19.411150</td>\n",
       "      <td>19.411150</td>\n",
       "      <td>19.411150</td>\n",
       "      <td>19.411150</td>\n",
       "    </tr>\n",
       "    <tr>\n",
       "      <th>ACTEN75</th>\n",
       "      <td>21</td>\n",
       "      <td>34</td>\n",
       "      <td>25.581882</td>\n",
       "      <td>26</td>\n",
       "      <td>25.581882</td>\n",
       "      <td>25.581882</td>\n",
       "      <td>25.581882</td>\n",
       "      <td>25.581882</td>\n",
       "      <td>25.581882</td>\n",
       "      <td>25.581882</td>\n",
       "      <td>...</td>\n",
       "      <td>25.581882</td>\n",
       "      <td>25.581882</td>\n",
       "      <td>22</td>\n",
       "      <td>25.581882</td>\n",
       "      <td>25.581882</td>\n",
       "      <td>25.581882</td>\n",
       "      <td>25.581882</td>\n",
       "      <td>25.581882</td>\n",
       "      <td>25.581882</td>\n",
       "      <td>25.581882</td>\n",
       "    </tr>\n",
       "  </tbody>\n",
       "</table>\n",
       "<p>5 rows × 2928 columns</p>\n",
       "</div>"
      ]
     },
     "metadata": {},
     "output_type": "execute_result"
    }
   ],
   "source": [
    "X.T.head()"
   ]
  },
  {
   "cell_type": "code",
   "execution_count": 25,
   "metadata": {
    "collapsed": false
   },
   "outputs": [
    {
     "data": {
      "text/plain": [
       "(98L, 2928L)"
      ]
     },
     "execution_count": 25,
     "metadata": {},
     "output_type": "execute_result"
    }
   ],
   "source": [
    "X.T.values.shape"
   ]
  }
 ],
 "metadata": {
  "kernelspec": {
   "display_name": "Python 3",
   "language": "python",
   "name": "python3"
  },
  "language_info": {
   "codemirror_mode": {
    "name": "ipython",
    "version": 3
   },
   "file_extension": ".py",
   "mimetype": "text/x-python",
   "name": "python",
   "nbconvert_exporter": "python",
   "pygments_lexer": "ipython3",
   "version": "3.5.1"
  }
 },
 "nbformat": 4,
 "nbformat_minor": 0
}
