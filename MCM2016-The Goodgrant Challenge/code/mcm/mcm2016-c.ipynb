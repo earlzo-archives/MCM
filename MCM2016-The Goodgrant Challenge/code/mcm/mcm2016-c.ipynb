{
 "cells": [
  {
   "cell_type": "markdown",
   "metadata": {},
   "source": [
    "# 环境初始化"
   ]
  },
  {
   "cell_type": "code",
   "execution_count": 1,
   "metadata": {
    "collapsed": false
   },
   "outputs": [
    {
     "name": "stdout",
     "output_type": "stream",
     "text": [
      "Using matplotlib backend: Qt4Agg\n",
      "Populating the interactive namespace from numpy and matplotlib\n"
     ]
    }
   ],
   "source": [
    "# 初始化Python科学计算环境\n",
    "%pylab\n",
    "# %matplotlib inline\n",
    "import pandas as pd\n",
    "import seaborn as sns\n",
    "import scipy.io as sio"
   ]
  },
  {
   "cell_type": "code",
   "execution_count": 2,
   "metadata": {
    "collapsed": false
   },
   "outputs": [
    {
     "data": {
      "text/plain": [
       "'D:\\\\Projects\\\\PyCharm\\\\math_modeling_learning\\\\mcm'"
      ]
     },
     "execution_count": 2,
     "metadata": {},
     "output_type": "execute_result"
    }
   ],
   "source": [
    "# 其他的一些库及初始环境\n",
    "import os\n",
    "\n",
    "data_dir = u'D:\\Documents\\工作存档\\数学建模\\\\2016美赛\\ProblemCDATA'\n",
    "report_dir = u'D:\\Projects\\Tex\\MCM_2016\\MCM_ICM\\数据\\\\report'\n",
    "\n",
    "work_dir = os.path.realpath(os.curdir)\n",
    "mat_dir = os.path.join(work_dir, 'mat')\n",
    "\n",
    "if not os.path.exists(report_dir):\n",
    "    os.mkdir(report_dir)\n",
    "if not os.path.exists(mat_dir):\n",
    "    os.mkdir(mat_dir)\n",
    "\n",
    "work_dir"
   ]
  },
  {
   "cell_type": "code",
   "execution_count": 3,
   "metadata": {
    "collapsed": false
   },
   "outputs": [
    {
     "data": {
      "text/plain": [
       "'D:\\\\Projects\\\\PyCharm\\\\math_modeling_learning\\\\mcm;'"
      ]
     },
     "execution_count": 3,
     "metadata": {},
     "output_type": "execute_result"
    }
   ],
   "source": [
    "# 初始化Matlab环境\n",
    "import matlab.engine\n",
    "eng = matlab.engine.start_matlab()\n",
    "eng.userpath(os.path.realpath(os.path.curdir), nargout=0)\n",
    "# eng.doc(nargout=0)\n",
    "eng.userpath()"
   ]
  },
  {
   "cell_type": "markdown",
   "metadata": {},
   "source": [
    "# 数据处理\n",
    "1. 所有分类的数据全部导出到 report_dir\n",
    "2. 只有在参与计算时才临时填充缺失值"
   ]
  },
  {
   "cell_type": "code",
   "execution_count": 4,
   "metadata": {
    "collapsed": false
   },
   "outputs": [
    {
     "data": {
      "text/plain": [
       "(2977, 3)"
      ]
     },
     "execution_count": 4,
     "metadata": {},
     "output_type": "execute_result"
    }
   ],
   "source": [
    "# 候选学校名单\n",
    "# 全部为 IPED 记录的所机构, 共 2977 所\n",
    "candidate_schools = pd.read_csv(\n",
    "    os.path.join(data_dir, r'IPEDS UID for Potential Candidate Schools.csv'),\n",
    "    skipinitialspace=True,\n",
    "    index_col=0,\n",
    "    dtype={\n",
    "        'UNITID':np.int\n",
    "    }\n",
    ")\n",
    "\n",
    "# 共有 2977 所候选学校\n",
    "candidate_schools.shape"
   ]
  },
  {
   "cell_type": "code",
   "execution_count": 5,
   "metadata": {
    "collapsed": false
   },
   "outputs": [
    {
     "data": {
      "text/plain": [
       "(2928, 121)"
      ]
     },
     "execution_count": 5,
     "metadata": {},
     "output_type": "execute_result"
    }
   ],
   "source": [
    "# 评价数据\n",
    "scorecard_elements = pd.read_csv(\n",
    "    os.path.join(data_dir, r'Most+Recent+Cohorts+(Scorecard+Elements).csv'),\n",
    "    skipinitialspace=True,\n",
    "    index_col=0,\n",
    "    na_values=['NULL', 'PrivacySuppressed'],\n",
    "    # usecols=[\n",
    "    #     0,  # UNITID \n",
    "    #     3,  # INSTNM\n",
    "    #     4,  # CITY\n",
    "    #     5,  # STABBR\n",
    "    # \n",
    "    # ]\n",
    "    dtype={\n",
    "        'UNITID':np.int\n",
    "    }\n",
    ")\n",
    "\n",
    "# 筛选出候选名单的数据\n",
    "# 41 所候选学校缺少数据\n",
    "scorecard_elements = scorecard_elements.ix[candidate_schools.index]\n",
    "\n",
    "# 只选取在运转的学校\n",
    "# 8 所学校不在运转\n",
    "scorecard_elements = scorecard_elements[scorecard_elements['CURROPER'] == 1]\n",
    "\n",
    "# 剩余 2977 - 41 -8 = 2928 所学校\n",
    "# 除去作为索引的字段, 共有 121 个字段\n",
    "scorecard_elements.shape"
   ]
  },
  {
   "cell_type": "code",
   "execution_count": 6,
   "metadata": {
    "collapsed": false
   },
   "outputs": [
    {
     "data": {
      "text/plain": [
       "(213, 7)"
      ]
     },
     "execution_count": 6,
     "metadata": {},
     "output_type": "execute_result"
    }
   ],
   "source": [
    "# 评价指标描述文件\n",
    "data_dictionary = pd.read_csv(\n",
    "    os.path.join(data_dir, r'CollegeScorecardDataDictionary-09-08-2015.csv'),\n",
    "    skipinitialspace=True,\n",
    "    # index_col=0,\n",
    "    # na_values='NULL'\n",
    "    usecols=[\n",
    "        0,  # NAME OF DATA ELEMENT\n",
    "        1,  # dev-category\n",
    "        #  2, # developer-friendly name\n",
    "        3,  # API data type\n",
    "        4,  # VARIABLE NAME\n",
    "        5,  # VALUE\n",
    "        6,  # LABEL\n",
    "        7,  # SOURCE\n",
    "        # 8  # NOTES\n",
    "    ],\n",
    "    # dtype={\n",
    "    #     'VALUE':np.int\n",
    "    # }\n",
    ")\n",
    "\n",
    "keys = [\n",
    "    'NAME OF DATA ELEMENT',\n",
    "    'dev-category',\n",
    "    'API data type',\n",
    "    'VARIABLE NAME',\n",
    "    'SOURCE'\n",
    "]\n",
    "\n",
    "# 填充枚举属性的空白值\n",
    "map(lambda v: data_dictionary[v].fillna(method='ffill', inplace=True), keys)\n",
    "\n",
    "# VALUE 字段有些地方有空格\n",
    "# data_dictionary['VALUE'].str.strip()\n",
    "\n",
    "# 只保留我们用到的指标\n",
    "data_dictionary = pd.concat(\n",
    "    [data_dictionary[data_dictionary['VARIABLE NAME'] == v] for v in scorecard_elements.keys()])\n",
    "data_dictionary.to_csv(os.path.join(report_dir, 'CollegeScorecardDataDictionary.csv'))\n",
    "\n",
    "# 将枚举值进行填充后行数增加到 213 行\n",
    "data_dictionary.shape"
   ]
  },
  {
   "cell_type": "code",
   "execution_count": 7,
   "metadata": {
    "collapsed": false
   },
   "outputs": [
    {
     "data": {
      "text/plain": [
       "(15, 106)"
      ]
     },
     "execution_count": 7,
     "metadata": {},
     "output_type": "execute_result"
    }
   ],
   "source": [
    "# 合并刚才因填充后重复的行来达到区分枚举字段的作用\n",
    "grouped_data_dictionary = data_dictionary.groupby(keys)\n",
    "value_counts = grouped_data_dictionary['VALUE'].count()\n",
    "# 枚举类型的数据\n",
    "em_index = value_counts[value_counts > 0]\n",
    "em_index.to_csv(os.path.join(report_dir, 'EnumCollegeScorecardElements.csv'))\n",
    "# 非枚举类型的数据\n",
    "unem_index = value_counts[value_counts <= 0]\n",
    "unem_index = unem_index.sort_index(level=1)\n",
    "unem_index.to_csv(os.path.join(report_dir, 'UnenumCollegeScorecardElements.csv'))\n",
    "# 15 个枚举字段, 106个非枚举字段, 共 121 个字段, 与原数据一致\n",
    "\n",
    "len(em_index), len(unem_index)"
   ]
  },
  {
   "cell_type": "code",
   "execution_count": 8,
   "metadata": {
    "collapsed": false
   },
   "outputs": [
    {
     "data": {
      "text/plain": [
       "(2928, 98)"
      ]
     },
     "execution_count": 8,
     "metadata": {},
     "output_type": "execute_result"
    }
   ],
   "source": [
    "# 提取出字段\n",
    "not_number_elements = em_index.index.get_level_values(3).tolist()\n",
    "# 添加算法遗漏的非数值字段\n",
    "not_number_elements.extend([\n",
    "    'opeid6',\n",
    "    'OPEID',\n",
    "    'CITY',\n",
    "    'INSTNM',\n",
    "    'HCM2',\n",
    "    'STABBR',\n",
    "    'INSTURL',\n",
    "    'NPCURL'\n",
    "])\n",
    "\n",
    "# 121 - 15 - 8 = 98 个数值字段\n",
    "number_elements_index = scorecard_elements.keys().difference(not_number_elements)\n",
    "# 只包含数值字段的数据\n",
    "number_elements = scorecard_elements[number_elements_index]\n",
    "# 导出方便计算\n",
    "number_elements.to_csv(os.path.join(report_dir, 'NumberElements.csv'))\n",
    "\n",
    "number_elements.shape"
   ]
  },
  {
   "cell_type": "code",
   "execution_count": 9,
   "metadata": {
    "collapsed": false
   },
   "outputs": [
    {
     "data": {
      "text/plain": [
       "(1896, 1007, 25)"
      ]
     },
     "execution_count": 9,
     "metadata": {},
     "output_type": "execute_result"
    }
   ],
   "source": [
    "# 四年制学校\n",
    "four_year_institutions = number_elements[\n",
    "    np.logical_or(\n",
    "        np.logical_or(\n",
    "            number_elements['RET_FT4'].notnull(),\n",
    "            number_elements['RET_PT4'].notnull()\n",
    "        ),\n",
    "        number_elements['C150_4_POOLED_SUPP'].notnull()\n",
    "    )]\n",
    "# 删除没有数据的三列\n",
    "# 这些数据是 number_elements 的切片, 不能就地删除\n",
    "four_year_institutions = four_year_institutions.drop(['RET_FTL4',\n",
    "                                                      'RET_PTL4',\n",
    "                                                      'C200_L4_POOLED_SUPP'],\n",
    "                                                     axis=1)\n",
    "four_year_institutions.to_csv(os.path.join(report_dir, 'four_year_institutions.csv'))\n",
    "# 低于四年制学校\n",
    "less_four_year_institutions = number_elements[\n",
    "    np.logical_or(\n",
    "        np.logical_or(\n",
    "            number_elements['RET_FTL4'].notnull(),\n",
    "            number_elements['RET_PTL4'].notnull()\n",
    "        ),\n",
    "        number_elements['C200_L4_POOLED_SUPP'].notnull()\n",
    "    )]\n",
    "# 删除没有数据的三列\n",
    "less_four_year_institutions = less_four_year_institutions.drop(['RET_FT4',\n",
    "                                                                'RET_PT4',\n",
    "                                                                'C150_4_POOLED_SUPP'],\n",
    "                                                               axis=1)\n",
    "less_four_year_institutions.to_csv(os.path.join(report_dir, 'less_four_year_institutions.csv'))\n",
    "# 未知年制的学校\n",
    "known_year_institutions = number_elements[\n",
    "    np.logical_and(\n",
    "        np.logical_and(\n",
    "            np.logical_and(\n",
    "                number_elements['RET_FT4'].isnull(),\n",
    "                number_elements['RET_PT4'].isnull()\n",
    "            ),\n",
    "            np.logical_and(\n",
    "                number_elements['RET_FTL4'].isnull(),\n",
    "                number_elements['RET_PTL4'].isnull()\n",
    "            )\n",
    "        ),\n",
    "        np.logical_and(\n",
    "            number_elements['C150_4_POOLED_SUPP'].isnull(),\n",
    "            number_elements['C200_L4_POOLED_SUPP'].isnull()\n",
    "        )\n",
    "    )]\n",
    "\n",
    "four_year_institutions.shape[0], less_four_year_institutions.shape[0], known_year_institutions.shape[0]"
   ]
  },
  {
   "cell_type": "markdown",
   "metadata": {},
   "source": [
    "# 数值计算"
   ]
  },
  {
   "cell_type": "code",
   "execution_count": 10,
   "metadata": {
    "collapsed": true
   },
   "outputs": [],
   "source": [
    "# 使用各字段的平均值填充缺失值\n",
    "fyi_filled = four_year_institutions.fillna(four_year_institutions.mean())\n",
    "lfyi_filled = less_four_year_institutions.fillna(less_four_year_institutions.mean())"
   ]
  },
  {
   "cell_type": "markdown",
   "metadata": {},
   "source": [
    "# ROI 模型\n",
    "$$ROI = \\frac{I - M}{M}$$\n",
    "$$I = n  \\cdot [k \\cdot Salary + (1-k) \\cdot m]$$\n",
    "$$n = s \\cdot g \\cdot [p \\cdot l_1 + (1-p) \\cdot l_2]$$\n",
    "\n",
    "- $I$ 表示毕业学生收入总和；\n",
    "- $n$ 表示毕业学生人数；\n",
    "- $k$ 表示6年后收入达到阈值的人数比例（gt\\_25k\\_p6）；\n",
    "- $m$ 为毕业学生收入中位数（md\\_earn\\_wne\\_p10）；\n",
    "- $s$ 表示招生人数（UGDS）；\n",
    "- $l_1$ 表示兼职留校率（RET\\_PT4/RET\\_PTL4）；\n",
    "- $l_2$ 表示非兼职留校率（RET\\_FT4/RET\\_FTL4）；\n",
    "- $p$ 表示兼职率（PPTUG_EF）；\n",
    "- $g$ 表示学校毕业率（C150\\_4\\_POOLED\\_SUPP/C200\\_L4\\_POOLED\\_SUPP）；\n",
    "- $Salary$ 为学生收入，为常数25000\n",
    "- $M$ 表示一年内投资金额；"
   ]
  },
  {
   "cell_type": "code",
   "execution_count": 11,
   "metadata": {
    "collapsed": false
   },
   "outputs": [
    {
     "data": {
      "text/plain": [
       "count    1896.000000\n",
       "mean        0.997356\n",
       "std         0.051299\n",
       "min         0.000000\n",
       "25%         0.999900\n",
       "50%         1.000000\n",
       "75%         1.000100\n",
       "max         1.000700\n",
       "dtype: float64"
      ]
     },
     "execution_count": 11,
     "metadata": {},
     "output_type": "execute_result"
    }
   ],
   "source": [
    "# 学位授予比例\n",
    "PCIP_index = [\n",
    "    'PCIP01', 'PCIP03', 'PCIP04', 'PCIP05', 'PCIP09', 'PCIP10', 'PCIP11', 'PCIP12',\n",
    "    'PCIP13', 'PCIP14', 'PCIP15', 'PCIP16', 'PCIP19', 'PCIP22', 'PCIP23', 'PCIP24',\n",
    "    'PCIP25', 'PCIP26', 'PCIP27', 'PCIP29', 'PCIP30', 'PCIP31', 'PCIP38', 'PCIP39',\n",
    "    'PCIP40', 'PCIP41', 'PCIP42', 'PCIP43', 'PCIP44', 'PCIP45', 'PCIP46', 'PCIP47',\n",
    "    'PCIP48', 'PCIP49', 'PCIP50', 'PCIP51', 'PCIP52', 'PCIP54'\n",
    "]\n",
    "# 学位授予比例和\n",
    "fyi_filled[PCIP_index].sum(axis=1).describe()"
   ]
  },
  {
   "cell_type": "code",
   "execution_count": 32,
   "metadata": {
    "collapsed": false
   },
   "outputs": [
    {
     "data": {
      "text/html": [
       "<div>\n",
       "<table border=\"1\" class=\"dataframe\">\n",
       "  <thead>\n",
       "    <tr style=\"text-align: right;\">\n",
       "      <th></th>\n",
       "      <th>INSTNM</th>\n",
       "      <th>CITY</th>\n",
       "      <th>I</th>\n",
       "    </tr>\n",
       "    <tr>\n",
       "      <th>UNITID</th>\n",
       "      <th></th>\n",
       "      <th></th>\n",
       "      <th></th>\n",
       "    </tr>\n",
       "  </thead>\n",
       "  <tbody>\n",
       "    <tr>\n",
       "      <th>204796</th>\n",
       "      <td>Ohio State University-Main Campus</td>\n",
       "      <td>Columbus</td>\n",
       "      <td>1.004124e+09</td>\n",
       "    </tr>\n",
       "    <tr>\n",
       "      <th>228723</th>\n",
       "      <td>Texas A &amp; M University-College Station</td>\n",
       "      <td>College Station</td>\n",
       "      <td>9.787565e+08</td>\n",
       "    </tr>\n",
       "    <tr>\n",
       "      <th>214777</th>\n",
       "      <td>Pennsylvania State University-Main Campus</td>\n",
       "      <td>University Park</td>\n",
       "      <td>9.744104e+08</td>\n",
       "    </tr>\n",
       "    <tr>\n",
       "      <th>228778</th>\n",
       "      <td>The University of Texas at Austin</td>\n",
       "      <td>Austin</td>\n",
       "      <td>9.052115e+08</td>\n",
       "    </tr>\n",
       "    <tr>\n",
       "      <th>132903</th>\n",
       "      <td>University of Central Florida</td>\n",
       "      <td>Orlando</td>\n",
       "      <td>8.697867e+08</td>\n",
       "    </tr>\n",
       "  </tbody>\n",
       "</table>\n",
       "</div>"
      ],
      "text/plain": [
       "                                           INSTNM             CITY  \\\n",
       "UNITID                                                               \n",
       "204796          Ohio State University-Main Campus         Columbus   \n",
       "228723     Texas A & M University-College Station  College Station   \n",
       "214777  Pennsylvania State University-Main Campus  University Park   \n",
       "228778          The University of Texas at Austin           Austin   \n",
       "132903              University of Central Florida          Orlando   \n",
       "\n",
       "                   I  \n",
       "UNITID                \n",
       "204796  1.004124e+09  \n",
       "228723  9.787565e+08  \n",
       "214777  9.744104e+08  \n",
       "228778  9.052115e+08  \n",
       "132903  8.697867e+08  "
      ]
     },
     "execution_count": 32,
     "metadata": {},
     "output_type": "execute_result"
    }
   ],
   "source": [
    "# ROI = 1/M * I - 1\n",
    "def cal_I(df, is_4_year, M=None):\n",
    "    Salary = 25000\n",
    "    s = df['UGDS']\n",
    "    p = df['PPTUG_EF']\n",
    "    k = df['gt_25k_p6']\n",
    "    m = df['md_earn_wne_p10']\n",
    "    if is_4_year:\n",
    "        l1 = df['RET_PT4']\n",
    "        l2 = df['RET_FT4']\n",
    "        g = df['C150_4_POOLED_SUPP']\n",
    "    else:\n",
    "        l1 = df['RET_PTL4']\n",
    "        l2 = df['RET_FTL4']\n",
    "        g = df['C200_L4_POOLED_SUPP']\n",
    "    n = s * g * (p * l1 + (1 - p) * l2)\n",
    "    I = n * (k * Salary + (1 - k) * m)\n",
    "    I.sort_values(ascending=False, inplace=True)\n",
    "    return I\n",
    "\n",
    "\n",
    "def export_i_rank(filename, I, is_4_year):\n",
    "    I_rank = scorecard_elements.ix[I.index]\n",
    "    I_rank['I'] = I\n",
    "    I_rank['4-year-institution'] = is_4_year\n",
    "    I_rank.to_csv(os.path.join(report_dir, '.'.join([filename, 'csv'])))\n",
    "    return I_rank\n",
    "\n",
    "# 四年制学校排名\n",
    "fyi_I = cal_I(fyi_filled, True)\n",
    "fyi_I_rank = export_i_rank('fyi_I_rank', fyi_I, True)\n",
    "# # 非四年制排名\n",
    "lfyi_I = cal_I(lfyi_filled, False)\n",
    "lfyi_I_rank = export_i_rank('lfyi_I_rank', lfyi_I, False)\n",
    "# 总排名\n",
    "I_rank = pd.concat([fyi_I_rank, lfyi_I_rank]).sort_values('I', ascending=False)\n",
    "I_rank.to_csv(os.path.join(report_dir, 'I_rank.csv'))\n",
    "\n",
    "# I_rank[['INSTNM', 'CITY', 'I']].head()"
   ]
  },
  {
   "cell_type": "code",
   "execution_count": 13,
   "metadata": {
    "collapsed": false
   },
   "outputs": [],
   "source": [
    "# 贷款率,佩尔助学金,毕业生的借款中位数,毕业生的借款中位数(10年的每月付款)与I的相关性\n",
    "correlation_with_rank = I_rank[['PCTFLOAN', 'PCTPELL','GRAD_DEBT_MDN_SUPP','GRAD_DEBT_MDN10YR_SUPP']]\n",
    "# 使用平均值填补缺失值\n",
    "correlation_with_rank = correlation_with_rank.fillna(correlation_with_rank.mean())\n",
    "x = np.arange(correlation_with_rank.shape[0])\n",
    "line_kws=dict(color='g')\n",
    "plt.subplot(221)\n",
    "sns.regplot(x, 'PCTPELL', correlation_with_rank, line_kws=line_kws)\n",
    "plt.subplot(222)\n",
    "sns.regplot(x, 'PCTFLOAN', correlation_with_rank, line_kws=line_kws)\n",
    "plt.subplot(223)\n",
    "sns.regplot(x, 'GRAD_DEBT_MDN_SUPP', correlation_with_rank, line_kws=line_kws)\n",
    "plt.subplot(224)\n",
    "sns.regplot(x, 'GRAD_DEBT_MDN10YR_SUPP', correlation_with_rank, line_kws=line_kws)\n",
    "\n",
    "show()"
   ]
  },
  {
   "cell_type": "code",
   "execution_count": 51,
   "metadata": {
    "collapsed": false
   },
   "outputs": [
    {
     "name": "stdout",
     "output_type": "stream",
     "text": [
      "0.1 16 | 0.1 17\n",
      "0.2 42 | 0.2 45\n",
      "0.3 79 | 0.3 88\n",
      "0.4 130 | 0.4 146\n",
      "0.5 206 | 0.5 234\n",
      "0.6 317 | 0.6 363\n",
      "0.7 481 | 0.7 561\n",
      "0.8 744 | 0.8 870\n",
      "0.9 1214 | 0.9 1381\n",
      "1.0 2903 | 1.0 2903\n"
     ]
    }
   ],
   "source": [
    "# 仅有佩尔助学金与 I 相关性较强\n",
    "# 填充缺失值\n",
    "PETPELL = I_rank['PCTPELL'].fillna(I_rank['PCTPELL'].mean())\n",
    "I_rank['I*p'] = I_rank['I'] * PETPELL\n",
    "I_rank['cvc'] = I_rank['I'].cumsum() / I_rank['I'].sum()\n",
    "for i in np.arange(0.1, 1.1, 0.1):\n",
    "    print i, I_rank[I_rank['cvc'] <= i].shape[0] ,'|',i, I_rank_with_p[I_rank_with_p['cvc'] <= i].shape[0]\n",
    "\n",
    "# %matplotlib qt\n",
    "fig = plt.figure()\n",
    "ax = fig.add_subplot(111)\n",
    "step = 100\n",
    "x = np.arange(1, I_rank.shape[0]+ 1)\n",
    "# ax.set_ylim()\n",
    "y = I_rank['cvc']\n",
    "ax.plot(x,y)\n",
    "for x_i in np.arange(step, 1000, step):\n",
    "    y_i = I_rank['I'].values[x_i]\n",
    "    y_max = y_i/plt.ylim()[1]\n",
    "    ax.axvline(x_i, color='r', ymax = y_max)\n",
    "    ax.annotate(I_rank_with_p['cvc'].values[x_i], (x_i, y_i * 1.2), textcoords='data')\n",
    "    \n",
    "I_rank_with_p = I_rank.sort_values('I*p', ascending=False)\n",
    "I_rank_with_p['cvc'] = I_rank_with_p['I*p'].cumsum()/I_rank_with_p['I*p'].sum()\n",
    "26 * 110  + 24 * 60\n",
    "I_rank.head(50)['I']\n",
    "\n",
    "I_rank[['INSTNM']].head(200).to_excel(os.path.join(report_dir, u'造假.xls'))"
   ]
  },
  {
   "cell_type": "code",
   "execution_count": 40,
   "metadata": {
    "collapsed": false
   },
   "outputs": [
    {
     "data": {
      "text/plain": [
       "[<matplotlib.lines.Line2D at 0x25be65f8>]"
      ]
     },
     "execution_count": 40,
     "metadata": {},
     "output_type": "execute_result"
    }
   ],
   "source": [
    "plot(np.arange(I_rank_with_p['cvc'].shape[0]),I_rank_with_p['cvc'])"
   ]
  },
  {
   "cell_type": "code",
   "execution_count": 17,
   "metadata": {
    "collapsed": false
   },
   "outputs": [
    {
     "data": {
      "text/plain": [
       "(2928, 16)"
      ]
     },
     "execution_count": 17,
     "metadata": {},
     "output_type": "execute_result"
    }
   ],
   "source": [
    "# 筛选出来的 16 个重要字段\n",
    "important_elemens_index = [\n",
    "    'UGDS',\n",
    "    'PPTUG_EF',\n",
    "    'RET_FT4',\n",
    "    'RET_FTL4',\n",
    "    'RET_PT4',\n",
    "    'RET_PTL4',\n",
    "    'PCTFLOAN',\n",
    "    'UG25abv',\n",
    "    'GRAD_DEBT_MDN_SUPP',\n",
    "    'GRAD_DEBT_MDN10YR_SUPP',\n",
    "    'RPY_3YR_RT_SUPP',\n",
    "    'C150_4_POOLED_SUPP',\n",
    "    'C200_L4_POOLED_SUPP',\n",
    "    'md_earn_wne_p10',\n",
    "    'gt_25k_p6',\n",
    "    'PCTPELL'\n",
    "]\n",
    "\n",
    "# 重要字段的数据\n",
    "important_elemens = number_elements[important_elemens_index]\n",
    "important_elemens.to_excel(os.path.join(report_dir, 'important_elements.xls'))\n",
    "\n",
    "important_elemens.shape"
   ]
  },
  {
   "cell_type": "markdown",
   "metadata": {},
   "source": [
    "# 基于 PSO 投资风险模型"
   ]
  },
  {
   "cell_type": "markdown",
   "metadata": {},
   "source": [
    "## 风险因子 e 的范围"
   ]
  },
  {
   "cell_type": "raw",
   "metadata": {
    "collapsed": false
   },
   "source": [
    "I = I_rank['I']\n",
    "# 将所有 I 转换到 0-1\n",
    "I = (I - I.min()) / (I.max() - I.min())\n",
    "I = I.values.tolist()\n",
    "# 使用 PSO 优化投资比例\n",
    "sio.savemat(os.path.join(mat_dir, 'I.mat'), dict(I=I))\n",
    "# w 为投资比例\n",
    "# 转换为matlab类型\n",
    "q = correlation_with_rank['PCTPELL'].values.tolist()\n",
    "sio.savemat(os.path.join(mat_dir, 'q.mat'), dict(q=q))\n",
    "\n",
    "n = 20\n",
    "rv = {}\n",
    "# 每次更新matlab环境避免因代码改动需要重启matlab环境\n",
    "eng.userpath(os.path.realpath(os.path.curdir), nargout=0)\n",
    "for e in np.arange(0.1, 2, 0.2):\n",
    "    for i in range(3):\n",
    "        # 搜索空间太大容易陷入局部最优解\n",
    "        [w, fval, exitflag] = eng.pso(matlab.double(I[:n]),\n",
    "                                      matlab.double(q[:n]),\n",
    "                                      e, nargout=3)\n",
    "        # [w, fval, exitflag] = eng.pso(I, nargout=3)\n",
    "        w = np.array(w[0])\n",
    "        w = w / np.sum(w)\n",
    "        rv[e] = w\n",
    "        print 'e:', e, 'fval:', fval, 'count:', w[w>0].size\n",
    "    print '-' * 50\n",
    "    \n",
    "# sns.distplot(w)\n",
    "# plt.show()\n",
    "rv = pd.DataFrame(rv)\n",
    "rv"
   ]
  },
  {
   "cell_type": "code",
   "execution_count": 60,
   "metadata": {
    "collapsed": false,
    "slideshow": {
     "slide_type": "slide"
    }
   },
   "outputs": [
    {
     "data": {
      "text/plain": [
       "array([ 0.02502804,  0.02620487,  0.02860422,  0.03624605,  0.03740682,\n",
       "        0.04034374,  0.04446342,  0.04730842,  0.07110265,  0.0794297 ,\n",
       "        0.08136016,  0.08250472,  0.08735481,  0.09386824,  0.10061932,\n",
       "        0.11815481])"
      ]
     },
     "execution_count": 60,
     "metadata": {},
     "output_type": "execute_result"
    }
   ],
   "source": [
    "a = np.random.random(size=16)\n",
    "a = a / np.sum(a)\n",
    "np.sort(a)"
   ]
  }
 ],
 "metadata": {
  "kernelspec": {
   "display_name": "Python 3",
   "language": "python",
   "name": "python3"
  },
  "language_info": {
   "codemirror_mode": {
    "name": "ipython",
    "version": 3
   },
   "file_extension": ".py",
   "mimetype": "text/x-python",
   "name": "python",
   "nbconvert_exporter": "python",
   "pygments_lexer": "ipython3",
   "version": "3.5.1"
  }
 },
 "nbformat": 4,
 "nbformat_minor": 0
}
